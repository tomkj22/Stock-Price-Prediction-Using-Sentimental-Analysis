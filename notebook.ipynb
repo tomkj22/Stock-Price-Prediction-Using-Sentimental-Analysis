{
 "cells": [
  {
   "cell_type": "code",
   "execution_count": 65,
   "id": "e4a4723a",
   "metadata": {},
   "outputs": [],
   "source": [
    "# Importing all the necessary libraries\n",
    "# Transformers library provides pre-trained models and tokenizers for NLP tasks\n",
    "from transformers import BertTokenizer, BertModel\n",
    "from transformers import get_linear_schedule_with_warmup\n",
    "\n",
    "# PyTorch is a machine learning library used for building neural networks\n",
    "import torch\n",
    "import torch.nn as nn  # nn module contains useful classes to build neural networks\n",
    "\n",
    "# DataLoader helps manage data in batches, making it easier to work with large datasets\n",
    "from torch.utils.data import TensorDataset, DataLoader, RandomSampler, SequentialSampler\n",
    "\n",
    "# AdamW is an optimizer for updating model parameters during training\n",
    "from torch.optim import AdamW\n",
    "\n",
    "# Pandas is a data manipulation library for working with structured data (like tables)\n",
    "import pandas as pd\n",
    "\n",
    "# Preprocess is a custom module for cleaning and preparing text data\n",
    "import preprocess\n",
    "\n",
    "# NumPy is a library for numerical operations and handling arrays\n",
    "import numpy as np\n"
   ]
  },
  {
   "cell_type": "code",
   "execution_count": 66,
   "id": "b1762cf4",
   "metadata": {},
   "outputs": [],
   "source": [
    "# Loading and processing dataset\n",
    "data = pd.read_csv('train/stock_data.csv')"
   ]
  },
  {
   "cell_type": "code",
   "execution_count": 67,
   "id": "73721a13-47f4-40d6-998d-9aa294e9c0bb",
   "metadata": {},
   "outputs": [
    {
     "name": "stdout",
     "output_type": "stream",
     "text": [
      "First 5 rows of the dataset:\n",
      "                                                Text  Sentiment\n",
      "0  Kickers on my watchlist XIDE TIT SOQ PNK CPW B...          1\n",
      "1  user: AAP MOVIE. 55% return for the FEA/GEED i...          1\n",
      "2  user I'd be afraid to short AMZN - they are lo...          1\n",
      "3                                  MNTA Over 12.00            1\n",
      "4                                   OI  Over 21.37            1\n"
     ]
    }
   ],
   "source": [
    "# Display first few rows of the dataset\n",
    "print(\"First 5 rows of the dataset:\")\n",
    "print(data.head())"
   ]
  },
  {
   "cell_type": "code",
   "execution_count": 68,
   "id": "48e95fb4-6d8f-4538-b258-161c63736ccc",
   "metadata": {},
   "outputs": [
    {
     "name": "stdout",
     "output_type": "stream",
     "text": [
      "\n",
      "Dataset Information:\n",
      "<class 'pandas.core.frame.DataFrame'>\n",
      "RangeIndex: 5791 entries, 0 to 5790\n",
      "Data columns (total 2 columns):\n",
      " #   Column     Non-Null Count  Dtype \n",
      "---  ------     --------------  ----- \n",
      " 0   Text       5791 non-null   object\n",
      " 1   Sentiment  5791 non-null   int64 \n",
      "dtypes: int64(1), object(1)\n",
      "memory usage: 90.6+ KB\n",
      "None\n"
     ]
    }
   ],
   "source": [
    "# Display dataset information (data types, null values, etc.)\n",
    "print(\"\\nDataset Information:\")\n",
    "print(data.info())"
   ]
  },
  {
   "cell_type": "code",
   "execution_count": 69,
   "id": "8ad30267-ded1-4202-9b9e-b1e61136fd82",
   "metadata": {},
   "outputs": [
    {
     "name": "stdout",
     "output_type": "stream",
     "text": [
      "\n",
      "Missing values in each column:\n",
      "Text         0\n",
      "Sentiment    0\n",
      "dtype: int64\n"
     ]
    }
   ],
   "source": [
    "# Check for missing values\n",
    "print(\"\\nMissing values in each column:\")\n",
    "print(data.isnull().sum())"
   ]
  },
  {
   "cell_type": "code",
   "execution_count": 70,
   "id": "6a7f21c2-b1b6-45d1-9a90-4c4fee9ae3d6",
   "metadata": {},
   "outputs": [
    {
     "name": "stdout",
     "output_type": "stream",
     "text": [
      "\n",
      "Descriptive statistics:\n",
      "         Sentiment\n",
      "count  5791.000000\n",
      "mean      0.272664\n",
      "std       0.962192\n",
      "min      -1.000000\n",
      "25%      -1.000000\n",
      "50%       1.000000\n",
      "75%       1.000000\n",
      "max       1.000000\n"
     ]
    }
   ],
   "source": [
    "# Handle missing values if any (optional, depends on dataset)\n",
    "# For example, dropping rows with missing values:\n",
    "data = data.dropna()\n",
    "\n",
    "# Descriptive statistics of the dataset\n",
    "print(\"\\nDescriptive statistics:\")\n",
    "print(data.describe())"
   ]
  },
  {
   "cell_type": "code",
   "execution_count": 71,
   "id": "39dffafa-a177-4ffc-bad6-74ad35efbc07",
   "metadata": {},
   "outputs": [
    {
     "name": "stdout",
     "output_type": "stream",
     "text": [
      "\n",
      "Sentiment label distribution:\n",
      " 1    3685\n",
      "-1    2106\n",
      "Name: Sentiment, dtype: int64\n"
     ]
    }
   ],
   "source": [
    "# Check for class imbalance in sentiment labels\n",
    "sentiment_counts = data['Sentiment'].value_counts()\n",
    "print(\"\\nSentiment label distribution:\")\n",
    "print(sentiment_counts)\n"
   ]
  },
  {
   "cell_type": "code",
   "execution_count": 72,
   "id": "8a16d68a",
   "metadata": {},
   "outputs": [
    {
     "data": {
      "text/html": [
       "<div>\n",
       "<style scoped>\n",
       "    .dataframe tbody tr th:only-of-type {\n",
       "        vertical-align: middle;\n",
       "    }\n",
       "\n",
       "    .dataframe tbody tr th {\n",
       "        vertical-align: top;\n",
       "    }\n",
       "\n",
       "    .dataframe thead th {\n",
       "        text-align: right;\n",
       "    }\n",
       "</style>\n",
       "<table border=\"1\" class=\"dataframe\">\n",
       "  <thead>\n",
       "    <tr style=\"text-align: right;\">\n",
       "      <th></th>\n",
       "      <th>Text</th>\n",
       "      <th>Sentiment</th>\n",
       "      <th>Text_Cleaned</th>\n",
       "    </tr>\n",
       "  </thead>\n",
       "  <tbody>\n",
       "    <tr>\n",
       "      <th>0</th>\n",
       "      <td>Kickers on my watchlist XIDE TIT SOQ PNK CPW B...</td>\n",
       "      <td>1</td>\n",
       "      <td>kickers on my watchlist xide tit soq pnk cpw b...</td>\n",
       "    </tr>\n",
       "    <tr>\n",
       "      <th>1</th>\n",
       "      <td>user: AAP MOVIE. 55% return for the FEA/GEED i...</td>\n",
       "      <td>1</td>\n",
       "      <td>aap movie 55 percent return for the fea and ge...</td>\n",
       "    </tr>\n",
       "    <tr>\n",
       "      <th>2</th>\n",
       "      <td>user I'd be afraid to short AMZN - they are lo...</td>\n",
       "      <td>1</td>\n",
       "      <td>id be afraid to short amzn to they are looking...</td>\n",
       "    </tr>\n",
       "    <tr>\n",
       "      <th>3</th>\n",
       "      <td>MNTA Over 12.00</td>\n",
       "      <td>1</td>\n",
       "      <td>mnta over 12.00</td>\n",
       "    </tr>\n",
       "    <tr>\n",
       "      <th>4</th>\n",
       "      <td>OI  Over 21.37</td>\n",
       "      <td>1</td>\n",
       "      <td>oi over 21.37</td>\n",
       "    </tr>\n",
       "    <tr>\n",
       "      <th>...</th>\n",
       "      <td>...</td>\n",
       "      <td>...</td>\n",
       "      <td>...</td>\n",
       "    </tr>\n",
       "    <tr>\n",
       "      <th>5786</th>\n",
       "      <td>Industry body CII said #discoms are likely to ...</td>\n",
       "      <td>-1</td>\n",
       "      <td>industry body cii said are likely to suffer a ...</td>\n",
       "    </tr>\n",
       "    <tr>\n",
       "      <th>5787</th>\n",
       "      <td>#Gold prices slip below Rs 46,000 as #investor...</td>\n",
       "      <td>-1</td>\n",
       "      <td>prices slip below rs 46000 as book profits ami...</td>\n",
       "    </tr>\n",
       "    <tr>\n",
       "      <th>5788</th>\n",
       "      <td>Workers at Bajaj Auto have agreed to a 10% wag...</td>\n",
       "      <td>1</td>\n",
       "      <td>workers at bajaj auto have agreed to a 10 perc...</td>\n",
       "    </tr>\n",
       "    <tr>\n",
       "      <th>5789</th>\n",
       "      <td>#Sharemarket LIVE: Sensex off day’s high, up 6...</td>\n",
       "      <td>1</td>\n",
       "      <td>live sensex off day’s high up 600 points tests...</td>\n",
       "    </tr>\n",
       "    <tr>\n",
       "      <th>5790</th>\n",
       "      <td>#Sensex, #Nifty climb off day's highs, still u...</td>\n",
       "      <td>1</td>\n",
       "      <td>climb off days highs still up 2 percent key fa...</td>\n",
       "    </tr>\n",
       "  </tbody>\n",
       "</table>\n",
       "<p>5791 rows × 3 columns</p>\n",
       "</div>"
      ],
      "text/plain": [
       "                                                   Text  Sentiment  \\\n",
       "0     Kickers on my watchlist XIDE TIT SOQ PNK CPW B...          1   \n",
       "1     user: AAP MOVIE. 55% return for the FEA/GEED i...          1   \n",
       "2     user I'd be afraid to short AMZN - they are lo...          1   \n",
       "3                                     MNTA Over 12.00            1   \n",
       "4                                      OI  Over 21.37            1   \n",
       "...                                                 ...        ...   \n",
       "5786  Industry body CII said #discoms are likely to ...         -1   \n",
       "5787  #Gold prices slip below Rs 46,000 as #investor...         -1   \n",
       "5788  Workers at Bajaj Auto have agreed to a 10% wag...          1   \n",
       "5789  #Sharemarket LIVE: Sensex off day’s high, up 6...          1   \n",
       "5790  #Sensex, #Nifty climb off day's highs, still u...          1   \n",
       "\n",
       "                                           Text_Cleaned  \n",
       "0     kickers on my watchlist xide tit soq pnk cpw b...  \n",
       "1     aap movie 55 percent return for the fea and ge...  \n",
       "2     id be afraid to short amzn to they are looking...  \n",
       "3                                       mnta over 12.00  \n",
       "4                                         oi over 21.37  \n",
       "...                                                 ...  \n",
       "5786  industry body cii said are likely to suffer a ...  \n",
       "5787  prices slip below rs 46000 as book profits ami...  \n",
       "5788  workers at bajaj auto have agreed to a 10 perc...  \n",
       "5789  live sensex off day’s high up 600 points tests...  \n",
       "5790  climb off days highs still up 2 percent key fa...  \n",
       "\n",
       "[5791 rows x 3 columns]"
      ]
     },
     "metadata": {},
     "output_type": "display_data"
    }
   ],
   "source": [
    "# Process the Tweets for NLP\n",
    "# The Preprocess_Tweets function from the 'preprocess' module is called to clean and prepare the tweet data\n",
    "\n",
    "data = preprocess.Preprocess_Tweets(data)  # Call the preprocessing function on the raw tweet data\n",
    "\n",
    "# Display the processed data\n",
    "# This will show the first few rows of the cleaned tweet data, allowing us to verify that the preprocessing\n",
    "# steps have been applied correctly. It's important to check that the text is now formatted properly for\n",
    "# further analysis and model training.\n",
    "display(data)"
   ]
  },
  {
   "cell_type": "code",
   "execution_count": 73,
   "id": "d0b74c59-244c-434d-94a3-7e0656e47da1",
   "metadata": {},
   "outputs": [
    {
     "data": {
      "image/png": "[encoded data removed]",
      "text/plain": [
       "<Figure size 800x600 with 1 Axes>"
      ]
     },
     "metadata": {},
     "output_type": "display_data"
    }
   ],
   "source": [
    "### Graphical Enhancements ###\n",
    "# Sentiment distribution as a bar chart (as done earlier)\n",
    "plt.figure(figsize=(8, 6))\n",
    "plt.bar(sentiment_counts.index, sentiment_counts.values, color=['red', 'green'])\n",
    "plt.title('Distribution of Sentiments')\n",
    "plt.xlabel('Sentiment')\n",
    "plt.ylabel('Count')\n",
    "plt.xticks(ticks=[0, 1], labels=['Negative', 'Positive'])\n",
    "plt.show()"
   ]
  },
  {
   "cell_type": "code",
   "execution_count": 77,
   "id": "caa8ecad",
   "metadata": {},
   "outputs": [
    {
     "name": "stdout",
     "output_type": "stream",
     "text": [
      "[1812 2928 1412 ... 3980  235 5157]\n"
     ]
    }
   ],
   "source": [
    "# Split the training and test data into an 80/20 split\n",
    "# This means we will use 80% of the data for training the model and 20% for testing its performance.\n",
    "\n",
    "train_pct = 0.8  # Set the percentage of data to be used for training\n",
    "\n",
    "# Set a random seed for reproducibility\n",
    "# This ensures that every time we run this code, we get the same random results.\n",
    "# It is particularly useful for debugging and comparing results.\n",
    "np.random.seed(1)\n",
    "\n",
    "# Create a random permutation of indices for the dataset\n",
    "# This randomly shuffles the indices of the data, allowing us to split the data\n",
    "# into training and test sets in a random manner, which helps ensure that \n",
    "# the training and test sets are representative of the overall data distribution.\n",
    "idx = np.random.permutation(len(data))  # Generate a random permutation of indices based on the length of the data\n",
    "print(idx)"
   ]
  },
  {
   "attachments": {},
   "cell_type": "markdown",
   "id": "6e44dc5a",
   "metadata": {},
   "source": [
    "Model Training and Fitting"
   ]
  },
  {
   "cell_type": "code",
   "execution_count": 78,
   "id": "93269148",
   "metadata": {},
   "outputs": [],
   "source": [
    "X_train = data['Text_Cleaned'].values[idx[:int(train_pct*len(data))]]\n",
    "y_train = data['Sentiment'].values[idx[:int(train_pct*len(data))]]\n",
    "y_train[y_train==-1] = 0\n",
    "\n",
    "\n",
    "X_test = data['Text_Cleaned'].values[idx[int(train_pct*len(data)):]]\n",
    "y_test = data['Sentiment'].values[idx[int(train_pct*len(data)):]]\n",
    "y_test[y_test==-1] = 0"
   ]
  },
  {
   "cell_type": "code",
   "execution_count": 79,
   "id": "385caeca",
   "metadata": {},
   "outputs": [
    {
     "name": "stdout",
     "output_type": "stream",
     "text": [
      "(4632,) (4632,)\n",
      "(1159,) (1159,)\n"
     ]
    }
   ],
   "source": [
    "print(X_train.shape, y_train.shape )\n",
    "print(X_test.shape, y_test.shape )"
   ]
  },
  {
   "cell_type": "code",
   "execution_count": 80,
   "id": "6d52a5e7-d5eb-4724-a47b-c38e96126332",
   "metadata": {},
   "outputs": [
    {
     "data": {
      "image/png": "[encoded data removed]",
      "text/plain": [
       "<Figure size 600x600 with 1 Axes>"
      ]
     },
     "metadata": {},
     "output_type": "display_data"
    }
   ],
   "source": [
    "\n",
    "train_size = len(X_train)  \n",
    "test_size = len(X_test)    \n",
    "\n",
    "# Create a pie chart to visualize the train-test split\n",
    "plt.figure(figsize=(6, 6))\n",
    "sizes = [train_size, test_size]\n",
    "labels = ['Training Data', 'Testing Data']\n",
    "colors = ['lightblue', 'lightcoral']\n",
    "plt.pie(sizes, labels=labels, autopct='%1.1f%%', colors=colors, startangle=90, explode=(0.1, 0))  # explode to highlight\n",
    "plt.title('Train-Test Split')\n",
    "plt.axis('equal')  # Equal aspect ratio ensures that the pie is drawn as a circle.\n",
    "plt.show()"
   ]
  },
  {
   "attachments": {},
   "cell_type": "markdown",
   "id": "5bc5dcbe",
   "metadata": {},
   "source": [
    "Tokenization"
   ]
  },
  {
   "cell_type": "code",
   "execution_count": 58,
   "id": "732d8cbb",
   "metadata": {},
   "outputs": [],
   "source": [
    "# The BERT tokenizer is responsible for converting the raw text of the tweets\n",
    "# into a format that the BERT model can understand. This includes:\n",
    "# - Tokenizing the text: Breaking down the text into smaller components, such as words or subwords.\n",
    "\n",
    "tokenizer = BertTokenizer.from_pretrained('bert-base-uncased', do_lower_case=True)  \n",
    "# Load the pre-trained BERT tokenizer\n",
    "# (it converts all text to lowercase)."
   ]
  },
  {
   "attachments": {},
   "cell_type": "markdown",
   "id": "7895f873",
   "metadata": {},
   "source": [
    "Encoding Tweets for Model"
   ]
  },
  {
   "cell_type": "code",
   "execution_count": 81,
   "id": "309a3a37",
   "metadata": {},
   "outputs": [],
   "source": [
    "import torch\n",
    "\n",
    "# Define the maximum length for BERT input\n",
    "MAX_LEN = 128  # You can adjust this as needed\n",
    "\n",
    "# Encode the tweets for the BERT model\n",
    "def preprocessing_for_bert(data):\n",
    "    input_ids = []\n",
    "    attention_masks = []\n",
    "    \n",
    "    # For each tweet\n",
    "    for line in data:\n",
    "        # Encode the data. Return input encoding and attention mask\n",
    "        encoding = tokenizer.encode_plus(\n",
    "            text=line,                # Data to process\n",
    "            add_special_tokens=True,  # Adds special chars [CLS] and [SEP] to encoding\n",
    "            padding='max_length',     # Pad the tweets with 0s to fit max length\n",
    "            max_length=MAX_LEN,       # Assign max length\n",
    "            truncation=True,          # Truncate tweets longer than max length\n",
    "            return_tensors=\"pt\",     # Return tensor as PyTorch tensor\n",
    "            return_attention_mask=True # Return the attention mask\n",
    "        )\n",
    "\n",
    "        # Add the encodings to the list\n",
    "        input_ids.append(encoding['input_ids'])\n",
    "        attention_masks.append(encoding['attention_mask'])\n",
    "        \n",
    "    # Return the lists as tensors\n",
    "    input_ids = torch.cat(input_ids, dim=0)  # Concatenate along the first dimension\n",
    "    attention_masks = torch.cat(attention_masks, dim=0)\n",
    "    \n",
    "    return input_ids, attention_masks\n"
   ]
  },
  {
   "cell_type": "code",
   "execution_count": 82,
   "id": "afa9d36f",
   "metadata": {},
   "outputs": [
    {
     "name": "stdout",
     "output_type": "stream",
     "text": [
      "Max length:  53\n"
     ]
    }
   ],
   "source": [
    "# Use this to determine max length for encoding\n",
    "encoded = [tokenizer.encode(sent, add_special_tokens=True) for sent in data['Text_Cleaned'].values]\n",
    "MAX_LEN = max([len(sent) for sent in encoded])\n",
    "print('Max length: ', MAX_LEN)"
   ]
  },
  {
   "cell_type": "code",
   "execution_count": null,
   "id": "f031456f-d6a3-4d65-bba8-2e7074c02288",
   "metadata": {},
   "outputs": [],
   "source": []
  }
 ],
 "metadata": {
  "kernelspec": {
   "display_name": "Python 3 (ipykernel)",
   "language": "python",
   "name": "python3"
  },
  "language_info": {
   "codemirror_mode": {
    "name": "ipython",
    "version": 3
   },
   "file_extension": ".py",
   "mimetype": "text/x-python",
   "name": "python",
   "nbconvert_exporter": "python",
   "pygments_lexer": "ipython3",
   "version": "3.11.4"
  }
 },
 "nbformat": 4,
 "nbformat_minor": 5
}
