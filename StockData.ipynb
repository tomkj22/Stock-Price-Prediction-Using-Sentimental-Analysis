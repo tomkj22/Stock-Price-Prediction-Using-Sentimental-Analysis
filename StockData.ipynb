{
  "nbformat": 4,
  "nbformat_minor": 0,
  "metadata": {
    "colab": {
      "provenance": [],
      "authorship_tag": "ABX9TyOX/c8u5dQMDjjE+qlAl/op",
      "include_colab_link": true
    },
    "kernelspec": {
      "name": "python3",
      "display_name": "Python 3"
    },
    "language_info": {
      "name": "python"
    }
  },
  "cells": [
    {
      "cell_type": "markdown",
      "metadata": {
        "id": "view-in-github",
        "colab_type": "text"
      },
      "source": [
        "<a href=\"https://colab.research.google.com/github/tomkj22/Stock-Price-Prediction-Using-Sentimental-Analysis/blob/main/StockData.ipynb\" target=\"_parent\"><img src=\"https://colab.research.google.com/assets/colab-badge.svg\" alt=\"Open In Colab\"/></a>"
      ]
    },
    {
      "cell_type": "code",
      "source": [
        "# Importing all the necessary libraries\n",
        "# Transformers library provides pre-trained models and tokenizers for NLP tasks\n",
        "from transformers import BertTokenizer, BertModel\n",
        "from transformers import get_linear_schedule_with_warmup\n",
        "\n",
        "# PyTorch is a machine learning library used for building neural networks\n",
        "import torch\n",
        "import torch.nn as nn  # nn module contains useful classes to build neural networks\n",
        "\n",
        "# DataLoader helps manage data in batches, making it easier to work with large datasets\n",
        "from torch.utils.data import TensorDataset, DataLoader, RandomSampler, SequentialSampler\n",
        "\n",
        "# AdamW is an optimizer for updating model parameters during training\n",
        "from torch.optim import AdamW\n",
        "\n",
        "# Pandas is a data manipulation library for working with structured data (like tables)\n",
        "import pandas as pd\n",
        "\n",
        "# Preprocess is a custom module for cleaning and preparing text data\n",
        "#import preprocess\n",
        "\n",
        "# NumPy is a library for numerical operations and handling arrays\n",
        "import numpy as np"
      ],
      "metadata": {
        "id": "I3qhpZzn3HY4"
      },
      "execution_count": null,
      "outputs": []
    },
    {
      "cell_type": "code",
      "source": [
        "from google.colab import drive\n",
        "drive.mount('/content/drive')"
      ],
      "metadata": {
        "colab": {
          "base_uri": "https://localhost:8080/"
        },
        "id": "3DWZBBQ63u7A",
        "outputId": "0f900688-39f9-4def-d1a1-0d05c94131fa"
      },
      "execution_count": null,
      "outputs": [
        {
          "output_type": "stream",
          "name": "stdout",
          "text": [
            "Mounted at /content/drive\n"
          ]
        }
      ]
    },
    {
      "cell_type": "code",
      "source": [
        "directory_path = '/content/drive/MyDrive/DISS/'"
      ],
      "metadata": {
        "id": "fGBK3I7n3yH2"
      },
      "execution_count": null,
      "outputs": []
    },
    {
      "cell_type": "code",
      "source": [
        "data = pd.read_csv('/content/drive/MyDrive/DISS/stock_data.csv')"
      ],
      "metadata": {
        "id": "YXVUNBQ_4B3a"
      },
      "execution_count": null,
      "outputs": []
    },
    {
      "cell_type": "code",
      "source": [
        "# Display first few rows of the dataset\n",
        "print(\"First 5 rows of the dataset:\")\n",
        "print(data.head())"
      ],
      "metadata": {
        "colab": {
          "base_uri": "https://localhost:8080/"
        },
        "id": "7M6WZCBt4iLU",
        "outputId": "3c1837c1-8d30-4c86-973d-677fa43bbc3e"
      },
      "execution_count": null,
      "outputs": [
        {
          "output_type": "stream",
          "name": "stdout",
          "text": [
            "First 5 rows of the dataset:\n",
            "                                                Text  Sentiment\n",
            "0  Kickers on my watchlist XIDE TIT SOQ PNK CPW B...          1\n",
            "1  user: AAP MOVIE. 55% return for the FEA/GEED i...          1\n",
            "2  user I'd be afraid to short AMZN - they are lo...          1\n",
            "3                                  MNTA Over 12.00            1\n",
            "4                                   OI  Over 21.37            1\n"
          ]
        }
      ]
    },
    {
      "cell_type": "code",
      "source": [
        "# Display dataset information (data types, null values, etc.)\n",
        "print(\"\\nDataset Information:\")\n",
        "print(data.info())"
      ],
      "metadata": {
        "colab": {
          "base_uri": "https://localhost:8080/"
        },
        "id": "vRkfUxsM4mQC",
        "outputId": "a1719071-45db-4368-cceb-7103340a1f19"
      },
      "execution_count": null,
      "outputs": [
        {
          "output_type": "stream",
          "name": "stdout",
          "text": [
            "\n",
            "Dataset Information:\n",
            "<class 'pandas.core.frame.DataFrame'>\n",
            "RangeIndex: 5791 entries, 0 to 5790\n",
            "Data columns (total 2 columns):\n",
            " #   Column     Non-Null Count  Dtype \n",
            "---  ------     --------------  ----- \n",
            " 0   Text       5791 non-null   object\n",
            " 1   Sentiment  5791 non-null   int64 \n",
            "dtypes: int64(1), object(1)\n",
            "memory usage: 90.6+ KB\n",
            "None\n"
          ]
        }
      ]
    },
    {
      "cell_type": "code",
      "source": [
        "# Check for missing values\n",
        "print(\"\\nMissing values in each column:\")\n",
        "print(data.isnull().sum())"
      ],
      "metadata": {
        "colab": {
          "base_uri": "https://localhost:8080/"
        },
        "id": "MGWslPDg4qE7",
        "outputId": "9950af8b-486b-4c9a-9f8a-123275baa13d"
      },
      "execution_count": null,
      "outputs": [
        {
          "output_type": "stream",
          "name": "stdout",
          "text": [
            "\n",
            "Missing values in each column:\n",
            "Text         0\n",
            "Sentiment    0\n",
            "dtype: int64\n"
          ]
        }
      ]
    },
    {
      "cell_type": "code",
      "source": [
        "# Handle missing values if any (optional, depends on dataset)\n",
        "# For example, dropping rows with missing values:\n",
        "data = data.dropna()\n",
        "\n",
        "# Descriptive statistics of the dataset\n",
        "print(\"\\nDescriptive statistics:\")\n",
        "print(data.describe())"
      ],
      "metadata": {
        "colab": {
          "base_uri": "https://localhost:8080/"
        },
        "id": "0CAE4Nrj4wPi",
        "outputId": "0fa487d8-c0c8-4051-e1ad-7fa473740c39"
      },
      "execution_count": null,
      "outputs": [
        {
          "output_type": "stream",
          "name": "stdout",
          "text": [
            "\n",
            "Descriptive statistics:\n",
            "         Sentiment\n",
            "count  5791.000000\n",
            "mean      0.272664\n",
            "std       0.962192\n",
            "min      -1.000000\n",
            "25%      -1.000000\n",
            "50%       1.000000\n",
            "75%       1.000000\n",
            "max       1.000000\n"
          ]
        }
      ]
    },
    {
      "cell_type": "code",
      "source": [
        "# Check for class imbalance in sentiment labels\n",
        "sentiment_counts = data['Sentiment'].value_counts()\n",
        "print(\"\\nSentiment label distribution:\")\n",
        "print(sentiment_counts)"
      ],
      "metadata": {
        "colab": {
          "base_uri": "https://localhost:8080/"
        },
        "id": "ce6TtCHN7H6H",
        "outputId": "e279a5e0-8968-4a6a-fe0e-b6bfc22138e3"
      },
      "execution_count": null,
      "outputs": [
        {
          "output_type": "stream",
          "name": "stdout",
          "text": [
            "\n",
            "Sentiment label distribution:\n",
            "Sentiment\n",
            " 1    3685\n",
            "-1    2106\n",
            "Name: count, dtype: int64\n"
          ]
        }
      ]
    }
  ]
}